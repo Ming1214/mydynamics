{
 "cells": [
  {
   "cell_type": "code",
   "execution_count": 1,
   "metadata": {},
   "outputs": [],
   "source": [
    "import numpy as np\n",
    "import scipy.linalg as linalg\n",
    "import matplotlib.pyplot as plt\n",
    "import matplotlib.animation as anim\n",
    "from sympy import *\n",
    "from sympy.physics.mechanics import *\n",
    "from ConditionalDynamic import *"
   ]
  },
  {
   "cell_type": "markdown",
   "metadata": {},
   "source": [
    "### 系统建模"
   ]
  },
  {
   "cell_type": "code",
   "execution_count": 2,
   "metadata": {},
   "outputs": [],
   "source": [
    "m1, m2, l1, l2, g = symbols(\"m1, m2, l1, l2, g\")\n",
    "q1, q2, u1, u2 = dynamicsymbols(\"q1, q2, u1, u2\")\n",
    "q1d, q2d, u1d, u2d = dynamicsymbols(\"q1, q2, u1, u2\", 1)"
   ]
  },
  {
   "cell_type": "markdown",
   "metadata": {},
   "source": [
    "### 运动学"
   ]
  },
  {
   "cell_type": "code",
   "execution_count": 3,
   "metadata": {},
   "outputs": [
    {
     "data": {
      "text/latex": [
       "$\\displaystyle \\frac{l_{1} \\dot{q}_{1}}{2}\\mathbf{\\hat{a}_z}$"
      ],
      "text/plain": [
       "l1*q1'/2*A.z"
      ]
     },
     "metadata": {},
     "output_type": "display_data"
    },
    {
     "data": {
      "text/latex": [
       "$\\displaystyle l_{1} \\dot{q}_{1}\\mathbf{\\hat{a}_z}$"
      ],
      "text/plain": [
       "l1*q1'*A.z"
      ]
     },
     "metadata": {},
     "output_type": "display_data"
    },
    {
     "data": {
      "text/latex": [
       "$\\displaystyle l_{1} \\dot{q}_{1}\\mathbf{\\hat{a}_z} + \\frac{l_{2} \\left(\\dot{q}_{1} + \\dot{q}_{2}\\right)}{2}\\mathbf{\\hat{b}_z}$"
      ],
      "text/plain": [
       "l1*q1'*A.z + l2*(q1' + q2')/2*B.z"
      ]
     },
     "metadata": {},
     "output_type": "display_data"
    },
    {
     "data": {
      "text/latex": [
       "$\\displaystyle l_{1} \\dot{q}_{1}\\mathbf{\\hat{a}_z} + l_{2} \\left(\\dot{q}_{1} + \\dot{q}_{2}\\right)\\mathbf{\\hat{b}_z}$"
      ],
      "text/plain": [
       "l1*q1'*A.z + l2*(q1' + q2')*B.z"
      ]
     },
     "metadata": {},
     "output_type": "display_data"
    }
   ],
   "source": [
    "N = ReferenceFrame(\"N\")\n",
    "O = Point(\"O\")\n",
    "O.set_vel(N, 0)\n",
    "A = N.orientnew(\"A\", \"axis\", [q1, N.x])\n",
    "C1 = O.locatenew(\"C1\", Rational(1, 2)*l1*A.y)\n",
    "display(C1.v2pt_theory(O, N, A))\n",
    "P = O.locatenew(\"P\", l1*A.y)\n",
    "display(P.v2pt_theory(O, N, A))\n",
    "B = A.orientnew(\"B\", \"axis\", [q2, A.x])\n",
    "C2 = P.locatenew(\"P\", Rational(1, 2)*l2*B.y)\n",
    "display(C2.v2pt_theory(P, N, B))\n",
    "Q = P.locatenew(\"Q\", l2*B.y)\n",
    "display(Q.v2pt_theory(P, N, B))"
   ]
  },
  {
   "cell_type": "markdown",
   "metadata": {},
   "source": [
    "### 动力学"
   ]
  },
  {
   "cell_type": "code",
   "execution_count": 4,
   "metadata": {},
   "outputs": [],
   "source": [
    "I1 = Rational(1, 3)*m1*l1**2*(outer(A.x, A.x)+outer(A.z, A.z))\n",
    "OP = RigidBody(\"OP\", C1, A, m1, (I1, C1))\n",
    "I2 = Rational(1, 3)*m2*l2**2*(outer(B.x, B.x)+outer(B.z, B.z))\n",
    "PQ = RigidBody(\"PQ\", C2, B, m2, (I2, C2))\n",
    "BodyList = [OP, PQ]\n",
    "ForceList = [(C1, m1*g*N.y), (C2, m2*g*N.y)]"
   ]
  },
  {
   "cell_type": "code",
   "execution_count": 5,
   "metadata": {},
   "outputs": [
    {
     "name": "stderr",
     "output_type": "stream",
     "text": [
      "d:\\python\\python37\\lib\\site-packages\\sympy\\physics\\mechanics\\kane.py:539: SymPyDeprecationWarning: \n",
      "\n",
      "The kanes_equation() argument order has been deprecated since SymPy\n",
      "1.1. Use switched argument order to update your code, For example:\n",
      "kanes_equations(loads, bodies) > kanes_equations(bodies, loads).\n",
      "instead. See https://github.com/sympy/sympy/issues/10945 for more\n",
      "info.  The API for kanes_equations() has changed such that the loads\n",
      "(forces and torques) are now the second argument and is optional with\n",
      "None being the default.\n",
      "\n",
      "  issue=10945, deprecated_since_version=\"1.1\").warn()\n"
     ]
    },
    {
     "data": {
      "text/latex": [
       "$\\displaystyle \\left[\\begin{matrix}- \\frac{g l_{1} m_{1} \\sin{\\left(\\operatorname{q_{1}}{\\left(t \\right)} \\right)}}{2} - g l_{1} m_{2} \\sin{\\left(\\operatorname{q_{1}}{\\left(t \\right)} \\right)} + \\frac{g l_{2} m_{2} \\left(- \\sin{\\left(\\operatorname{q_{1}}{\\left(t \\right)} \\right)} \\cos{\\left(\\operatorname{q_{2}}{\\left(t \\right)} \\right)} - \\sin{\\left(\\operatorname{q_{2}}{\\left(t \\right)} \\right)} \\cos{\\left(\\operatorname{q_{1}}{\\left(t \\right)} \\right)}\\right)}{2}\\\\\\frac{g l_{2} m_{2} \\left(- \\sin{\\left(\\operatorname{q_{1}}{\\left(t \\right)} \\right)} \\cos{\\left(\\operatorname{q_{2}}{\\left(t \\right)} \\right)} - \\sin{\\left(\\operatorname{q_{2}}{\\left(t \\right)} \\right)} \\cos{\\left(\\operatorname{q_{1}}{\\left(t \\right)} \\right)}\\right)}{2}\\end{matrix}\\right]$"
      ],
      "text/plain": [
       "Matrix([\n",
       "[-g*l1*m1*sin(q1(t))/2 - g*l1*m2*sin(q1(t)) + g*l2*m2*(-sin(q1(t))*cos(q2(t)) - sin(q2(t))*cos(q1(t)))/2],\n",
       "[                                             g*l2*m2*(-sin(q1(t))*cos(q2(t)) - sin(q2(t))*cos(q1(t)))/2]])"
      ]
     },
     "metadata": {},
     "output_type": "display_data"
    },
    {
     "data": {
      "text/latex": [
       "$\\displaystyle \\left[\\begin{matrix}\\frac{l_{1} l_{2} m_{2} \\left(\\operatorname{u_{1}}{\\left(t \\right)} + \\operatorname{u_{2}}{\\left(t \\right)}\\right)^{2} \\sin{\\left(\\operatorname{q_{2}}{\\left(t \\right)} \\right)}}{2} - \\frac{l_{1} l_{2} m_{2} \\operatorname{u_{1}}^{2}{\\left(t \\right)} \\sin{\\left(\\operatorname{q_{2}}{\\left(t \\right)} \\right)}}{2} - \\left(\\frac{l_{2}^{2} m_{2}}{3} + m_{2} \\left(\\frac{l_{1} l_{2} \\cos{\\left(\\operatorname{q_{2}}{\\left(t \\right)} \\right)}}{2} + \\frac{l_{2}^{2}}{4}\\right)\\right) \\frac{d}{d t} \\operatorname{u_{2}}{\\left(t \\right)} - \\left(\\frac{7 l_{1}^{2} m_{1}}{12} + \\frac{l_{2}^{2} m_{2}}{3} + m_{2} \\left(l_{1}^{2} + l_{1} l_{2} \\cos{\\left(\\operatorname{q_{2}}{\\left(t \\right)} \\right)} + \\frac{l_{2}^{2}}{4}\\right)\\right) \\frac{d}{d t} \\operatorname{u_{1}}{\\left(t \\right)}\\\\- \\frac{l_{1} l_{2} m_{2} \\operatorname{u_{1}}^{2}{\\left(t \\right)} \\sin{\\left(\\operatorname{q_{2}}{\\left(t \\right)} \\right)}}{2} - \\frac{7 l_{2}^{2} m_{2} \\frac{d}{d t} \\operatorname{u_{2}}{\\left(t \\right)}}{12} - \\left(\\frac{l_{2}^{2} m_{2}}{3} + m_{2} \\left(\\frac{l_{1} l_{2} \\cos{\\left(\\operatorname{q_{2}}{\\left(t \\right)} \\right)}}{2} + \\frac{l_{2}^{2}}{4}\\right)\\right) \\frac{d}{d t} \\operatorname{u_{1}}{\\left(t \\right)}\\end{matrix}\\right]$"
      ],
      "text/plain": [
       "Matrix([\n",
       "[l1*l2*m2*(u1(t) + u2(t))**2*sin(q2(t))/2 - l1*l2*m2*u1(t)**2*sin(q2(t))/2 - (l2**2*m2/3 + m2*(l1*l2*cos(q2(t))/2 + l2**2/4))*Derivative(u2(t), t) - (7*l1**2*m1/12 + l2**2*m2/3 + m2*(l1**2 + l1*l2*cos(q2(t)) + l2**2/4))*Derivative(u1(t), t)],\n",
       "[                                                                                                   -l1*l2*m2*u1(t)**2*sin(q2(t))/2 - 7*l2**2*m2*Derivative(u2(t), t)/12 - (l2**2*m2/3 + m2*(l1*l2*cos(q2(t))/2 + l2**2/4))*Derivative(u1(t), t)]])"
      ]
     },
     "metadata": {},
     "output_type": "display_data"
    }
   ],
   "source": [
    "kane = KanesMethod(N, q_ind = [q1, q2], u_ind = [u1, u2], kd_eqs = [q1d - u1, q2d - u2])\n",
    "f, f_star = kane.kanes_equations(ForceList, BodyList)\n",
    "display(f)\n",
    "display(f_star)"
   ]
  },
  {
   "cell_type": "markdown",
   "metadata": {},
   "source": [
    "### 系统参数"
   ]
  },
  {
   "cell_type": "code",
   "execution_count": 6,
   "metadata": {},
   "outputs": [],
   "source": [
    "constants = {\n",
    "    m1: 1., \n",
    "    m2: 1., \n",
    "    l1: 1., \n",
    "    l2: 1., \n",
    "    g: 9.8\n",
    "}\n",
    "h, eta = 1.5, 0.8"
   ]
  },
  {
   "cell_type": "markdown",
   "metadata": {},
   "source": [
    "### 二阶加速度"
   ]
  },
  {
   "cell_type": "code",
   "execution_count": 7,
   "metadata": {},
   "outputs": [
    {
     "data": {
      "text/plain": [
       "{Derivative(u2(t), t): 1.2*(2.0*(5.0*u1(t)**2*sin(q2(t)) + 49.0*sin(q1(t) + q2(t)))*(6.0*cos(q2(t)) + 13.0) + (6.0*cos(q2(t)) + 7.0)*(10.0*u1(t)*u2(t)*sin(q2(t)) + 5.0*u2(t)**2*sin(q2(t)) - 49.0*sin(q1(t) + q2(t)) - 147.0*sin(q1(t))))/(36.0*cos(q2(t))**2 - 133.0),\n",
       " Derivative(u1(t), t): 1.2*(35.0*u1(t)**2*sin(q2(t)) + 15.0*u1(t)**2*sin(2.0*q2(t)) + 70.0*u1(t)*u2(t)*sin(q2(t)) + 35.0*u2(t)**2*sin(q2(t)) + 147.0*sin(q1(t) + 2.0*q2(t)) - 882.0*sin(q1(t)))/(115.0 - 18.0*cos(2.0*q2(t)))}"
      ]
     },
     "metadata": {},
     "output_type": "display_data"
    }
   ],
   "source": [
    "qdds = solve((f+f_star).subs(constants), [u1.diff(), u2.diff()])\n",
    "display(qdds)"
   ]
  },
  {
   "cell_type": "markdown",
   "metadata": {},
   "source": [
    "### 多阶段建模"
   ]
  },
  {
   "cell_type": "code",
   "execution_count": 8,
   "metadata": {},
   "outputs": [],
   "source": [
    "def dynamic(t, x):\n",
    "    dx1 = x[2]\n",
    "    dx2 = x[3]\n",
    "    p_dict = {q1: x[0], q2: x[1], u1: x[2], u2: x[3]}\n",
    "    dx3 = qdds[u1.diff()].subs(p_dict)\n",
    "    dx4 = qdds[u2.diff()].subs(p_dict)\n",
    "    return np.array([dx1, dx2, dx3, dx4])"
   ]
  },
  {
   "cell_type": "code",
   "execution_count": 9,
   "metadata": {},
   "outputs": [],
   "source": [
    "def event(t, x):\n",
    "    return np.cos(x[0])+np.cos(x[0]+x[1])-h"
   ]
  },
  {
   "cell_type": "code",
   "execution_count": 10,
   "metadata": {},
   "outputs": [],
   "source": [
    "def trans(t, x):\n",
    "    A = np.array([\n",
    "        [-np.sin(x[0])-np.sin(x[0]+x[1]), -np.sin(x[0]+x[1])], \n",
    "        [np.cos(x[0])+np.cos(x[0]+x[1]), np.cos(x[0]+x[1])]\n",
    "    ])\n",
    "    Ainv = np.linalg.inv(A)\n",
    "    T = kinetic_energy(N, OP, PQ).subs(constants)\n",
    "    T1 = T.diff(q1d)\n",
    "    T2 = T.diff(q2d)\n",
    "    q1d_new, q2d_new = symbols(\"q1d_new, q2d_new\")\n",
    "    sol = solve(Matrix([\n",
    "            (Ainv[0, 1]*(T1.subs({q1d: q1d_new, q2d: q2d_new})-T1.subs({q1d: x[2], q2d: x[3]}))+Ainv[1, 1]*(T2.subs({q1d: q1d_new, q2d: q2d_new})-T2.subs({q1d: x[2], q2d: x[3]}))).subs({q1: x[0], q2: x[1]}), \n",
    "            A[0, 0]*(q1d_new+eta*x[2])+A[0, 1]*(q2d_new+eta*x[3])\n",
    "        ]), [q1d_new, q2d_new])\n",
    "    return np.array([x[0], x[1], sol[q1d_new].evalf(), sol[q2d_new].evalf()])"
   ]
  },
  {
   "cell_type": "code",
   "execution_count": 11,
   "metadata": {},
   "outputs": [],
   "source": [
    "dyn = ConditionalDynamic(dynamic, event, trans)"
   ]
  },
  {
   "cell_type": "markdown",
   "metadata": {},
   "source": [
    "### 仿真"
   ]
  },
  {
   "cell_type": "code",
   "execution_count": 12,
   "metadata": {},
   "outputs": [],
   "source": [
    "x0 = np.array([np.pi/2, 0, 0, 0])\n",
    "t_span = [0, 10]\n",
    "res = dyn.run(x0, t_span)"
   ]
  },
  {
   "cell_type": "code",
   "execution_count": 13,
   "metadata": {},
   "outputs": [
    {
     "data": {
      "image/png": "[encoded data removed]",
      "text/plain": [
       "<Figure size 720x504 with 2 Axes>"
      ]
     },
     "metadata": {
      "needs_background": "light"
     },
     "output_type": "display_data"
    }
   ],
   "source": [
    "plt.figure(figsize = (10, 7))\n",
    "plt.subplot(2, 1, 1)\n",
    "plt.plot(res[0], res[1][0, :], \"r-\", label = \"q1\")\n",
    "plt.plot(res[0], res[1][1, :], \"b-\", label = \"q2\")\n",
    "plt.legend()\n",
    "plt.grid()\n",
    "plt.subplot(2, 1, 2)\n",
    "plt.plot(res[0], res[1][2, :], \"r--\", label = \"u1\")\n",
    "plt.plot(res[0], res[1][3, :], \"b--\", label = \"u2\")\n",
    "plt.legend()\n",
    "plt.grid()\n",
    "plt.show()"
   ]
  },
  {
   "cell_type": "markdown",
   "metadata": {},
   "source": [
    "### 生成动画"
   ]
  },
  {
   "cell_type": "code",
   "execution_count": 14,
   "metadata": {},
   "outputs": [],
   "source": [
    "def datas(i):\n",
    "    q1i = res[1][0, 100*i]\n",
    "    q2i = res[1][1, 100*i]\n",
    "    pO = np.array([0., 0.])\n",
    "    pP = np.array([np.cos(q1i), np.sin(q1i)])\n",
    "    pQ = pP + np.array([np.cos(q1i+q2i), np.sin(q1i+q2i)])\n",
    "    data = [np.r_[\n",
    "        np.linspace(pO[1], pP[1], 100), \n",
    "        np.linspace(pP[1], pQ[1], 100)\n",
    "    ], np.r_[\n",
    "        np.linspace(pO[0], pP[0], 100), \n",
    "        np.linspace(pP[0], pQ[0], 100)\n",
    "    ]]\n",
    "    return data"
   ]
  },
  {
   "cell_type": "code",
   "execution_count": 15,
   "metadata": {},
   "outputs": [],
   "source": [
    "def update(i):\n",
    "    data = datas(i)\n",
    "    opq.set_data(data)\n",
    "    return opq, "
   ]
  },
  {
   "cell_type": "code",
   "execution_count": 16,
   "metadata": {},
   "outputs": [
    {
     "data": {
      "image/png": "[encoded data removed]",
      "text/plain": [
       "<Figure size 432x288 with 1 Axes>"
      ]
     },
     "metadata": {},
     "output_type": "display_data"
    },
    {
     "name": "stderr",
     "output_type": "stream",
     "text": [
      "MovieWriter ffmpeg unavailable; using Pillow instead.\n"
     ]
    }
   ],
   "source": [
    "fig, ax = plt.subplots()\n",
    "ax.axis(\"square\")\n",
    "ax.set_xlim([-2.5, 2.5])\n",
    "ax.set_ylim([2.5, -2.5])\n",
    "ax.set_xticks([])\n",
    "ax.set_yticks([])\n",
    "opq, = ax.plot([], [], lw = 2, color = \"k\")\n",
    "ax.plot(0, 0, \"ko\")\n",
    "ax.plot(np.linspace(-2, 2, 100), h*np.ones(100), \"k--\")\n",
    "ani = anim.FuncAnimation(fig, update, frames = len(res[0])//100, interval = 100, blit = True)\n",
    "plt.show()\n",
    "ani.save(\"example2.gif\", fps = 10)"
   ]
  },
  {
   "cell_type": "code",
   "execution_count": null,
   "metadata": {},
   "outputs": [],
   "source": []
  }
 ],
 "metadata": {
  "kernelspec": {
   "display_name": "Python 3",
   "language": "python",
   "name": "python3"
  },
  "language_info": {
   "codemirror_mode": {
    "name": "ipython",
    "version": 3
   },
   "file_extension": ".py",
   "mimetype": "text/x-python",
   "name": "python",
   "nbconvert_exporter": "python",
   "pygments_lexer": "ipython3",
   "version": "3.7.7"
  }
 },
 "nbformat": 4,
 "nbformat_minor": 4
}
